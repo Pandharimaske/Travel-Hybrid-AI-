{
 "cells": [
  {
   "cell_type": "code",
   "execution_count": 1,
   "id": "8d587593",
   "metadata": {},
   "outputs": [],
   "source": [
    "import numpy as np\n",
    "import pandas as pd"
   ]
  },
  {
   "cell_type": "code",
   "execution_count": 2,
   "id": "5137ab46",
   "metadata": {},
   "outputs": [],
   "source": [
    "df = pd.read_json(\"vietnam_travel_dataset.json\")"
   ]
  },
  {
   "cell_type": "code",
   "execution_count": 3,
   "id": "d9ad0c88",
   "metadata": {},
   "outputs": [
    {
     "data": {
      "text/html": [
       "<div>\n",
       "<style scoped>\n",
       "    .dataframe tbody tr th:only-of-type {\n",
       "        vertical-align: middle;\n",
       "    }\n",
       "\n",
       "    .dataframe tbody tr th {\n",
       "        vertical-align: top;\n",
       "    }\n",
       "\n",
       "    .dataframe thead th {\n",
       "        text-align: right;\n",
       "    }\n",
       "</style>\n",
       "<table border=\"1\" class=\"dataframe\">\n",
       "  <thead>\n",
       "    <tr style=\"text-align: right;\">\n",
       "      <th></th>\n",
       "      <th>id</th>\n",
       "      <th>type</th>\n",
       "      <th>name</th>\n",
       "      <th>region</th>\n",
       "      <th>description</th>\n",
       "      <th>best_time_to_visit</th>\n",
       "      <th>tags</th>\n",
       "      <th>semantic_text</th>\n",
       "      <th>connections</th>\n",
       "      <th>city</th>\n",
       "    </tr>\n",
       "  </thead>\n",
       "  <tbody>\n",
       "    <tr>\n",
       "      <th>0</th>\n",
       "      <td>city_hanoi</td>\n",
       "      <td>City</td>\n",
       "      <td>Hanoi</td>\n",
       "      <td>Northern Vietnam</td>\n",
       "      <td>Hanoi is located in Northern Vietnam. It’s kno...</td>\n",
       "      <td>February to May</td>\n",
       "      <td>[culture, food, heritage]</td>\n",
       "      <td>Hanoi offers a mix of culture, food, heritage ...</td>\n",
       "      <td>[{'relation': 'Connected_To', 'target': 'city_...</td>\n",
       "      <td>NaN</td>\n",
       "    </tr>\n",
       "    <tr>\n",
       "      <th>1</th>\n",
       "      <td>city_ha_long</td>\n",
       "      <td>City</td>\n",
       "      <td>Ha Long Bay</td>\n",
       "      <td>Northern Vietnam</td>\n",
       "      <td>Ha Long Bay is located in Northern Vietnam. It...</td>\n",
       "      <td>February to May</td>\n",
       "      <td>[beach, cruise, nature]</td>\n",
       "      <td>Ha Long Bay offers a mix of beach, cruise, nat...</td>\n",
       "      <td>[{'relation': 'Connected_To', 'target': 'city_...</td>\n",
       "      <td>NaN</td>\n",
       "    </tr>\n",
       "    <tr>\n",
       "      <th>2</th>\n",
       "      <td>city_sapa</td>\n",
       "      <td>City</td>\n",
       "      <td>Sapa</td>\n",
       "      <td>Northern Vietnam</td>\n",
       "      <td>Sapa is located in Northern Vietnam. It’s know...</td>\n",
       "      <td>October to April</td>\n",
       "      <td>[mountain, trekking, ethnic]</td>\n",
       "      <td>Sapa offers a mix of mountain, trekking, ethni...</td>\n",
       "      <td>[{'relation': 'Connected_To', 'target': 'city_...</td>\n",
       "      <td>NaN</td>\n",
       "    </tr>\n",
       "    <tr>\n",
       "      <th>3</th>\n",
       "      <td>city_hue</td>\n",
       "      <td>City</td>\n",
       "      <td>Hue</td>\n",
       "      <td>Central Vietnam</td>\n",
       "      <td>Hue is located in Central Vietnam. It’s known ...</td>\n",
       "      <td>October to April</td>\n",
       "      <td>[imperial, history, architecture]</td>\n",
       "      <td>Hue offers a mix of imperial, history, archite...</td>\n",
       "      <td>[{'relation': 'Connected_To', 'target': 'city_...</td>\n",
       "      <td>NaN</td>\n",
       "    </tr>\n",
       "    <tr>\n",
       "      <th>4</th>\n",
       "      <td>city_hoi_an</td>\n",
       "      <td>City</td>\n",
       "      <td>Hoi An</td>\n",
       "      <td>Central Vietnam</td>\n",
       "      <td>Hoi An is located in Central Vietnam. It’s kno...</td>\n",
       "      <td>October to April</td>\n",
       "      <td>[lanterns, romantic, heritage]</td>\n",
       "      <td>Hoi An offers a mix of lanterns, romantic, her...</td>\n",
       "      <td>[{'relation': 'Connected_To', 'target': 'city_...</td>\n",
       "      <td>NaN</td>\n",
       "    </tr>\n",
       "  </tbody>\n",
       "</table>\n",
       "</div>"
      ],
      "text/plain": [
       "             id  type         name            region  \\\n",
       "0    city_hanoi  City        Hanoi  Northern Vietnam   \n",
       "1  city_ha_long  City  Ha Long Bay  Northern Vietnam   \n",
       "2     city_sapa  City         Sapa  Northern Vietnam   \n",
       "3      city_hue  City          Hue   Central Vietnam   \n",
       "4   city_hoi_an  City       Hoi An   Central Vietnam   \n",
       "\n",
       "                                         description best_time_to_visit  \\\n",
       "0  Hanoi is located in Northern Vietnam. It’s kno...    February to May   \n",
       "1  Ha Long Bay is located in Northern Vietnam. It...    February to May   \n",
       "2  Sapa is located in Northern Vietnam. It’s know...   October to April   \n",
       "3  Hue is located in Central Vietnam. It’s known ...   October to April   \n",
       "4  Hoi An is located in Central Vietnam. It’s kno...   October to April   \n",
       "\n",
       "                                tags  \\\n",
       "0          [culture, food, heritage]   \n",
       "1            [beach, cruise, nature]   \n",
       "2       [mountain, trekking, ethnic]   \n",
       "3  [imperial, history, architecture]   \n",
       "4     [lanterns, romantic, heritage]   \n",
       "\n",
       "                                       semantic_text  \\\n",
       "0  Hanoi offers a mix of culture, food, heritage ...   \n",
       "1  Ha Long Bay offers a mix of beach, cruise, nat...   \n",
       "2  Sapa offers a mix of mountain, trekking, ethni...   \n",
       "3  Hue offers a mix of imperial, history, archite...   \n",
       "4  Hoi An offers a mix of lanterns, romantic, her...   \n",
       "\n",
       "                                         connections city  \n",
       "0  [{'relation': 'Connected_To', 'target': 'city_...  NaN  \n",
       "1  [{'relation': 'Connected_To', 'target': 'city_...  NaN  \n",
       "2  [{'relation': 'Connected_To', 'target': 'city_...  NaN  \n",
       "3  [{'relation': 'Connected_To', 'target': 'city_...  NaN  \n",
       "4  [{'relation': 'Connected_To', 'target': 'city_...  NaN  "
      ]
     },
     "execution_count": 3,
     "metadata": {},
     "output_type": "execute_result"
    }
   ],
   "source": [
    "df.head()"
   ]
  },
  {
   "cell_type": "code",
   "execution_count": 6,
   "id": "7fd902a3",
   "metadata": {},
   "outputs": [
    {
     "data": {
      "text/plain": [
       "(360, 10)"
      ]
     },
     "execution_count": 6,
     "metadata": {},
     "output_type": "execute_result"
    }
   ],
   "source": [
    "df.shape"
   ]
  },
  {
   "cell_type": "code",
   "execution_count": 4,
   "id": "b224ddbb",
   "metadata": {},
   "outputs": [
    {
     "data": {
      "text/plain": [
       "array(['City', 'Attraction', 'Hotel', 'Activity'], dtype=object)"
      ]
     },
     "execution_count": 4,
     "metadata": {},
     "output_type": "execute_result"
    }
   ],
   "source": [
    "df['type'].unique()"
   ]
  },
  {
   "cell_type": "code",
   "execution_count": 5,
   "id": "0b3a160f",
   "metadata": {},
   "outputs": [
    {
     "data": {
      "text/plain": [
       "array(['Northern Vietnam', 'Central Vietnam', 'Southern Vietnam', nan],\n",
       "      dtype=object)"
      ]
     },
     "execution_count": 5,
     "metadata": {},
     "output_type": "execute_result"
    }
   ],
   "source": [
    "df['region'].unique()"
   ]
  },
  {
   "cell_type": "code",
   "execution_count": 10,
   "id": "ebfb0fc6",
   "metadata": {},
   "outputs": [
    {
     "data": {
      "text/plain": [
       "359    [{'relation': 'Available_In', 'target': 'city_...\n",
       "Name: connections, dtype: object"
      ]
     },
     "execution_count": 10,
     "metadata": {},
     "output_type": "execute_result"
    }
   ],
   "source": [
    "df['connections'].tail(1)"
   ]
  },
  {
   "cell_type": "code",
   "execution_count": 3,
   "id": "f62b9104",
   "metadata": {},
   "outputs": [
    {
     "name": "stdout",
     "output_type": "stream",
     "text": [
      "neo4j_viz.html\n",
      "Saved visualization to neo4j_viz.html\n"
     ]
    }
   ],
   "source": [
    "# visualize_graph.py\n",
    "from neo4j import GraphDatabase\n",
    "from pyvis.network import Network\n",
    "import networkx as nx\n",
    "import config\n",
    "\n",
    "NEO_BATCH = 500  # number of relationships to fetch / visualize\n",
    "\n",
    "driver = GraphDatabase.driver(config.NEO4J_URI, auth=(config.NEO4J_USERNAME, config.NEO4J_PASSWORD))\n",
    "\n",
    "def fetch_subgraph(tx, limit=500):\n",
    "    # fetch nodes and relationships up to a limit\n",
    "    q = (\n",
    "        \"MATCH (a:Entity)-[r]->(b:Entity) \"\n",
    "        \"RETURN a.id AS a_id, labels(a) AS a_labels, a.name AS a_name, \"\n",
    "        \"b.id AS b_id, labels(b) AS b_labels, b.name AS b_name, type(r) AS rel \"\n",
    "        \"LIMIT $limit\"\n",
    "    )\n",
    "    return list(tx.run(q, limit=limit))\n",
    "\n",
    "def build_pyvis(rows, output_html=\"neo4j_viz.html\"):\n",
    "    net = Network(height=\"900px\", width=\"100%\", notebook=False, directed=True)\n",
    "    for rec in rows:\n",
    "        a_id = rec[\"a_id\"]; a_name = rec[\"a_name\"] or a_id\n",
    "        b_id = rec[\"b_id\"]; b_name = rec[\"b_name\"] or b_id\n",
    "        a_labels = rec[\"a_labels\"]; b_labels = rec[\"b_labels\"]\n",
    "        rel = rec[\"rel\"]\n",
    "\n",
    "        net.add_node(a_id, label=f\"{a_name}\\n({','.join(a_labels)})\", title=f\"{a_name}\")\n",
    "        net.add_node(b_id, label=f\"{b_name}\\n({','.join(b_labels)})\", title=f\"{b_name}\")\n",
    "        net.add_edge(a_id, b_id, title=rel)\n",
    "\n",
    "    net.show(output_html, notebook=False)\n",
    "    print(f\"Saved visualization to {output_html}\")\n",
    "\n",
    "def main():\n",
    "    with driver.session() as session:\n",
    "        rows = session.execute_read(fetch_subgraph, limit=NEO_BATCH)\n",
    "    build_pyvis(rows)\n",
    "\n",
    "if __name__ == \"__main__\":\n",
    "    main()\n"
   ]
  },
  {
   "cell_type": "code",
   "execution_count": 3,
   "id": "2399c4d5",
   "metadata": {},
   "outputs": [
    {
     "name": "stdout",
     "output_type": "stream",
     "text": [
      "Collecting langchain-neo4j\n",
      "  Downloading langchain_neo4j-0.5.0-py3-none-any.whl.metadata (4.5 kB)\n",
      "Collecting langchain<0.4.0,>=0.3.7 (from langchain-neo4j)\n",
      "  Using cached langchain-0.3.27-py3-none-any.whl.metadata (7.8 kB)\n",
      "Collecting langchain-core<0.4.0,>=0.3.39 (from langchain-neo4j)\n",
      "  Using cached langchain_core-0.3.79-py3-none-any.whl.metadata (3.2 kB)\n",
      "Collecting neo4j<6.0.0,>=5.25.0 (from langchain-neo4j)\n",
      "  Using cached neo4j-5.28.2-py3-none-any.whl.metadata (5.9 kB)\n",
      "Collecting neo4j-graphrag<2.0.0,>=1.9.0 (from langchain-neo4j)\n",
      "  Using cached neo4j_graphrag-1.10.0-py3-none-any.whl.metadata (18 kB)\n",
      "Collecting langchain-text-splitters<1.0.0,>=0.3.9 (from langchain<0.4.0,>=0.3.7->langchain-neo4j)\n",
      "  Downloading langchain_text_splitters-0.3.11-py3-none-any.whl.metadata (1.8 kB)\n",
      "Requirement already satisfied: langsmith>=0.1.17 in /opt/anaconda3/envs/blue_enigma_env/lib/python3.11/site-packages (from langchain<0.4.0,>=0.3.7->langchain-neo4j) (0.4.37)\n",
      "Requirement already satisfied: pydantic<3.0.0,>=2.7.4 in /opt/anaconda3/envs/blue_enigma_env/lib/python3.11/site-packages (from langchain<0.4.0,>=0.3.7->langchain-neo4j) (2.12.3)\n",
      "Requirement already satisfied: SQLAlchemy<3,>=1.4 in /opt/anaconda3/envs/blue_enigma_env/lib/python3.11/site-packages (from langchain<0.4.0,>=0.3.7->langchain-neo4j) (2.0.44)\n",
      "Requirement already satisfied: requests<3,>=2 in /opt/anaconda3/envs/blue_enigma_env/lib/python3.11/site-packages (from langchain<0.4.0,>=0.3.7->langchain-neo4j) (2.32.5)\n",
      "Requirement already satisfied: PyYAML>=5.3 in /opt/anaconda3/envs/blue_enigma_env/lib/python3.11/site-packages (from langchain<0.4.0,>=0.3.7->langchain-neo4j) (6.0.3)\n",
      "Requirement already satisfied: tenacity!=8.4.0,<10.0.0,>=8.1.0 in /opt/anaconda3/envs/blue_enigma_env/lib/python3.11/site-packages (from langchain-core<0.4.0,>=0.3.39->langchain-neo4j) (9.1.2)\n",
      "Requirement already satisfied: jsonpatch<2.0.0,>=1.33.0 in /opt/anaconda3/envs/blue_enigma_env/lib/python3.11/site-packages (from langchain-core<0.4.0,>=0.3.39->langchain-neo4j) (1.33)\n",
      "Requirement already satisfied: typing-extensions<5.0.0,>=4.7.0 in /opt/anaconda3/envs/blue_enigma_env/lib/python3.11/site-packages (from langchain-core<0.4.0,>=0.3.39->langchain-neo4j) (4.15.0)\n",
      "Requirement already satisfied: packaging<26.0.0,>=23.2.0 in /opt/anaconda3/envs/blue_enigma_env/lib/python3.11/site-packages (from langchain-core<0.4.0,>=0.3.39->langchain-neo4j) (24.2)\n",
      "Requirement already satisfied: jsonpointer>=1.9 in /opt/anaconda3/envs/blue_enigma_env/lib/python3.11/site-packages (from jsonpatch<2.0.0,>=1.33.0->langchain-core<0.4.0,>=0.3.39->langchain-neo4j) (3.0.0)\n",
      "Requirement already satisfied: httpx<1,>=0.23.0 in /opt/anaconda3/envs/blue_enigma_env/lib/python3.11/site-packages (from langsmith>=0.1.17->langchain<0.4.0,>=0.3.7->langchain-neo4j) (0.28.1)\n",
      "Requirement already satisfied: orjson>=3.9.14 in /opt/anaconda3/envs/blue_enigma_env/lib/python3.11/site-packages (from langsmith>=0.1.17->langchain<0.4.0,>=0.3.7->langchain-neo4j) (3.11.3)\n",
      "Requirement already satisfied: requests-toolbelt>=1.0.0 in /opt/anaconda3/envs/blue_enigma_env/lib/python3.11/site-packages (from langsmith>=0.1.17->langchain<0.4.0,>=0.3.7->langchain-neo4j) (1.0.0)\n",
      "Requirement already satisfied: zstandard>=0.23.0 in /opt/anaconda3/envs/blue_enigma_env/lib/python3.11/site-packages (from langsmith>=0.1.17->langchain<0.4.0,>=0.3.7->langchain-neo4j) (0.25.0)\n",
      "Requirement already satisfied: anyio in /opt/anaconda3/envs/blue_enigma_env/lib/python3.11/site-packages (from httpx<1,>=0.23.0->langsmith>=0.1.17->langchain<0.4.0,>=0.3.7->langchain-neo4j) (4.11.0)\n",
      "Requirement already satisfied: certifi in /opt/anaconda3/envs/blue_enigma_env/lib/python3.11/site-packages (from httpx<1,>=0.23.0->langsmith>=0.1.17->langchain<0.4.0,>=0.3.7->langchain-neo4j) (2025.10.5)\n",
      "Requirement already satisfied: httpcore==1.* in /opt/anaconda3/envs/blue_enigma_env/lib/python3.11/site-packages (from httpx<1,>=0.23.0->langsmith>=0.1.17->langchain<0.4.0,>=0.3.7->langchain-neo4j) (1.0.9)\n",
      "Requirement already satisfied: idna in /opt/anaconda3/envs/blue_enigma_env/lib/python3.11/site-packages (from httpx<1,>=0.23.0->langsmith>=0.1.17->langchain<0.4.0,>=0.3.7->langchain-neo4j) (3.11)\n",
      "Requirement already satisfied: h11>=0.16 in /opt/anaconda3/envs/blue_enigma_env/lib/python3.11/site-packages (from httpcore==1.*->httpx<1,>=0.23.0->langsmith>=0.1.17->langchain<0.4.0,>=0.3.7->langchain-neo4j) (0.16.0)\n",
      "Requirement already satisfied: pytz in /opt/anaconda3/envs/blue_enigma_env/lib/python3.11/site-packages (from neo4j<6.0.0,>=5.25.0->langchain-neo4j) (2025.2)\n",
      "Collecting fsspec<2025.0.0,>=2024.9.0 (from neo4j-graphrag<2.0.0,>=1.9.0->langchain-neo4j)\n",
      "  Using cached fsspec-2024.12.0-py3-none-any.whl.metadata (11 kB)\n",
      "Collecting json-repair<0.45.0,>=0.44.1 (from neo4j-graphrag<2.0.0,>=1.9.0->langchain-neo4j)\n",
      "  Using cached json_repair-0.44.1-py3-none-any.whl.metadata (12 kB)\n",
      "Requirement already satisfied: numpy<3.0.0,>=2.0.0 in /opt/anaconda3/envs/blue_enigma_env/lib/python3.11/site-packages (from neo4j-graphrag<2.0.0,>=1.9.0->langchain-neo4j) (2.3.4)\n",
      "Collecting pypdf<7.0.0,>=6.0.0 (from neo4j-graphrag<2.0.0,>=1.9.0->langchain-neo4j)\n",
      "  Downloading pypdf-6.1.2-py3-none-any.whl.metadata (7.1 kB)\n",
      "Requirement already satisfied: scipy<2.0.0,>=1.13.0 in /opt/anaconda3/envs/blue_enigma_env/lib/python3.11/site-packages (from neo4j-graphrag<2.0.0,>=1.9.0->langchain-neo4j) (1.16.2)\n",
      "Collecting types-pyyaml<7.0.0.0,>=6.0.12.20240917 (from neo4j-graphrag<2.0.0,>=1.9.0->langchain-neo4j)\n",
      "  Using cached types_pyyaml-6.0.12.20250915-py3-none-any.whl.metadata (1.7 kB)\n",
      "Requirement already satisfied: annotated-types>=0.6.0 in /opt/anaconda3/envs/blue_enigma_env/lib/python3.11/site-packages (from pydantic<3.0.0,>=2.7.4->langchain<0.4.0,>=0.3.7->langchain-neo4j) (0.7.0)\n",
      "Requirement already satisfied: pydantic-core==2.41.4 in /opt/anaconda3/envs/blue_enigma_env/lib/python3.11/site-packages (from pydantic<3.0.0,>=2.7.4->langchain<0.4.0,>=0.3.7->langchain-neo4j) (2.41.4)\n",
      "Requirement already satisfied: typing-inspection>=0.4.2 in /opt/anaconda3/envs/blue_enigma_env/lib/python3.11/site-packages (from pydantic<3.0.0,>=2.7.4->langchain<0.4.0,>=0.3.7->langchain-neo4j) (0.4.2)\n",
      "Requirement already satisfied: charset_normalizer<4,>=2 in /opt/anaconda3/envs/blue_enigma_env/lib/python3.11/site-packages (from requests<3,>=2->langchain<0.4.0,>=0.3.7->langchain-neo4j) (3.4.4)\n",
      "Requirement already satisfied: urllib3<3,>=1.21.1 in /opt/anaconda3/envs/blue_enigma_env/lib/python3.11/site-packages (from requests<3,>=2->langchain<0.4.0,>=0.3.7->langchain-neo4j) (2.5.0)\n",
      "Requirement already satisfied: sniffio>=1.1 in /opt/anaconda3/envs/blue_enigma_env/lib/python3.11/site-packages (from anyio->httpx<1,>=0.23.0->langsmith>=0.1.17->langchain<0.4.0,>=0.3.7->langchain-neo4j) (1.3.1)\n",
      "Downloading langchain_neo4j-0.5.0-py3-none-any.whl (31 kB)\n",
      "Downloading langchain-0.3.27-py3-none-any.whl (1.0 MB)\n",
      "\u001b[2K   \u001b[90m━━━━━━━━━━━━━━━━━━━━━━━━━━━━━━━━━━━━━━━━\u001b[0m \u001b[32m1.0/1.0 MB\u001b[0m \u001b[31m314.9 kB/s\u001b[0m  \u001b[33m0:00:04\u001b[0m eta \u001b[36m0:00:01\u001b[0m\n",
      "\u001b[?25hUsing cached langchain_core-0.3.79-py3-none-any.whl (449 kB)\n",
      "Downloading langchain_text_splitters-0.3.11-py3-none-any.whl (33 kB)\n",
      "Using cached neo4j-5.28.2-py3-none-any.whl (313 kB)\n",
      "Using cached neo4j_graphrag-1.10.0-py3-none-any.whl (201 kB)\n",
      "Using cached fsspec-2024.12.0-py3-none-any.whl (183 kB)\n",
      "Using cached json_repair-0.44.1-py3-none-any.whl (22 kB)\n",
      "Downloading pypdf-6.1.2-py3-none-any.whl (323 kB)\n",
      "Using cached types_pyyaml-6.0.12.20250915-py3-none-any.whl (20 kB)\n",
      "Installing collected packages: types-pyyaml, pypdf, neo4j, json-repair, fsspec, neo4j-graphrag, langchain-core, langchain-text-splitters, langchain, langchain-neo4j\n",
      "\u001b[2K  Attempting uninstall: neo4j\n",
      "\u001b[2K    Found existing installation: neo4j 6.0.2\n",
      "\u001b[2K    Uninstalling neo4j-6.0.2:\n",
      "\u001b[2K      Successfully uninstalled neo4j-6.0.2\n",
      "\u001b[2K  Attempting uninstall: fsspec\u001b[90m━━━━━━━━━━━━━━━━━━━━━━━━━━━━━━━\u001b[0m \u001b[32m 2/10\u001b[0m [neo4j]\n",
      "\u001b[2K    Found existing installation: fsspec 2025.9.0━━━━━━━━━━━━━━\u001b[0m \u001b[32m 2/10\u001b[0m [neo4j]\n",
      "\u001b[2K    Uninstalling fsspec-2025.9.0:━━━━━━━━━━━━━━━━━━━━━━━━━━━━━\u001b[0m \u001b[32m 2/10\u001b[0m [neo4j]\n",
      "\u001b[2K      Successfully uninstalled fsspec-2025.9.0━━━━━━━━━━━━━━━━\u001b[0m \u001b[32m 2/10\u001b[0m [neo4j]\n",
      "\u001b[2K  Attempting uninstall: langchain-core\u001b[0m\u001b[90m━━━━━━━━━━━━━━━━━━━\u001b[0m \u001b[32m 5/10\u001b[0m [neo4j-graphrag]\n",
      "\u001b[2K    Found existing installation: langchain-core 1.0.0━━━━━━━━━\u001b[0m \u001b[32m 5/10\u001b[0m [neo4j-graphrag]\n",
      "\u001b[2K    Uninstalling langchain-core-1.0.0:\u001b[90m━━━━━━━━━━━━━━━━━━━\u001b[0m \u001b[32m 5/10\u001b[0m [neo4j-graphrag]\n",
      "\u001b[2K      Successfully uninstalled langchain-core-1.0.0━━━━━━━━━━━\u001b[0m \u001b[32m 5/10\u001b[0m [neo4j-graphrag]\n",
      "\u001b[2K  Attempting uninstall: langchain-text-splitters90m━━━━━━━━━━━━━━━\u001b[0m \u001b[32m 6/10\u001b[0m [langchain-core]\n",
      "\u001b[2K    Found existing installation: langchain-text-splitters 1.0.0[0m \u001b[32m 6/10\u001b[0m [langchain-core]\n",
      "\u001b[2K    Uninstalling langchain-text-splitters-1.0.0:━━━━━━━━━━━━━━\u001b[0m \u001b[32m 6/10\u001b[0m [langchain-core]\n",
      "\u001b[2K      Successfully uninstalled langchain-text-splitters-1.0.0━\u001b[0m \u001b[32m 6/10\u001b[0m [langchain-core]\n",
      "\u001b[2K  Attempting uninstall: langchain[90m╺\u001b[0m\u001b[90m━━━━━━━━━━━━━━━\u001b[0m \u001b[32m 6/10\u001b[0m [langchain-core]\n",
      "\u001b[2K    Found existing installation: langchain 1.0.1━━━━━━━━━━━━━━\u001b[0m \u001b[32m 6/10\u001b[0m [langchain-core]\n",
      "\u001b[2K    Uninstalling langchain-1.0.1:[90m╺\u001b[0m\u001b[90m━━━━━━━━━━━━━━━\u001b[0m \u001b[32m 6/10\u001b[0m [langchain-core]\n",
      "\u001b[2K      Successfully uninstalled langchain-1.0.1m━━━━━━━━━━━━━━━\u001b[0m \u001b[32m 6/10\u001b[0m [langchain-core]\n",
      "\u001b[2K   \u001b[90m━━━━━━━━━━━━━━━━━━━━━━━━━━━━━━━━━━━━━━━━\u001b[0m \u001b[32m10/10\u001b[0m [langchain-neo4j] [langchain]]\n",
      "\u001b[1A\u001b[2K\u001b[31mERROR: pip's dependency resolver does not currently take into account all the packages that are installed. This behaviour is the source of the following dependency conflicts.\n",
      "langchain-classic 1.0.0 requires langchain-core<2.0.0,>=1.0.0, but you have langchain-core 0.3.79 which is incompatible.\n",
      "langchain-classic 1.0.0 requires langchain-text-splitters<2.0.0,>=1.0.0, but you have langchain-text-splitters 0.3.11 which is incompatible.\n",
      "langchain-community 0.4 requires langchain-core<2.0.0,>=1.0.0, but you have langchain-core 0.3.79 which is incompatible.\u001b[0m\u001b[31m\n",
      "\u001b[0mSuccessfully installed fsspec-2024.12.0 json-repair-0.44.1 langchain-0.3.27 langchain-core-0.3.79 langchain-neo4j-0.5.0 langchain-text-splitters-0.3.11 neo4j-5.28.2 neo4j-graphrag-1.10.0 pypdf-6.1.2 types-pyyaml-6.0.12.20250915\n",
      "Note: you may need to restart the kernel to use updated packages.\n"
     ]
    }
   ],
   "source": [
    "pip install langchain-neo4j"
   ]
  },
  {
   "cell_type": "code",
   "execution_count": null,
   "id": "0a6f66e9",
   "metadata": {},
   "outputs": [],
   "source": []
  }
 ],
 "metadata": {
  "kernelspec": {
   "display_name": "blue_enigma_env",
   "language": "python",
   "name": "python3"
  },
  "language_info": {
   "codemirror_mode": {
    "name": "ipython",
    "version": 3
   },
   "file_extension": ".py",
   "mimetype": "text/x-python",
   "name": "python",
   "nbconvert_exporter": "python",
   "pygments_lexer": "ipython3",
   "version": "3.11.13"
  }
 },
 "nbformat": 4,
 "nbformat_minor": 5
}
