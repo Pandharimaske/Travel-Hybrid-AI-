{
 "cells": [
  {
   "cell_type": "code",
   "execution_count": 1,
   "id": "8d587593",
   "metadata": {},
   "outputs": [],
   "source": [
    "import numpy as np\n",
    "import pandas as pd"
   ]
  },
  {
   "cell_type": "code",
   "execution_count": 2,
   "id": "5137ab46",
   "metadata": {},
   "outputs": [],
   "source": [
    "df = pd.read_json(\"vietnam_travel_dataset.json\")"
   ]
  },
  {
   "cell_type": "code",
   "execution_count": 3,
   "id": "d9ad0c88",
   "metadata": {},
   "outputs": [
    {
     "data": {
      "text/html": [
       "<div>\n",
       "<style scoped>\n",
       "    .dataframe tbody tr th:only-of-type {\n",
       "        vertical-align: middle;\n",
       "    }\n",
       "\n",
       "    .dataframe tbody tr th {\n",
       "        vertical-align: top;\n",
       "    }\n",
       "\n",
       "    .dataframe thead th {\n",
       "        text-align: right;\n",
       "    }\n",
       "</style>\n",
       "<table border=\"1\" class=\"dataframe\">\n",
       "  <thead>\n",
       "    <tr style=\"text-align: right;\">\n",
       "      <th></th>\n",
       "      <th>id</th>\n",
       "      <th>type</th>\n",
       "      <th>name</th>\n",
       "      <th>region</th>\n",
       "      <th>description</th>\n",
       "      <th>best_time_to_visit</th>\n",
       "      <th>tags</th>\n",
       "      <th>semantic_text</th>\n",
       "      <th>connections</th>\n",
       "      <th>city</th>\n",
       "    </tr>\n",
       "  </thead>\n",
       "  <tbody>\n",
       "    <tr>\n",
       "      <th>0</th>\n",
       "      <td>city_hanoi</td>\n",
       "      <td>City</td>\n",
       "      <td>Hanoi</td>\n",
       "      <td>Northern Vietnam</td>\n",
       "      <td>Hanoi is located in Northern Vietnam. It’s kno...</td>\n",
       "      <td>February to May</td>\n",
       "      <td>[culture, food, heritage]</td>\n",
       "      <td>Hanoi offers a mix of culture, food, heritage ...</td>\n",
       "      <td>[{'relation': 'Connected_To', 'target': 'city_...</td>\n",
       "      <td>NaN</td>\n",
       "    </tr>\n",
       "    <tr>\n",
       "      <th>1</th>\n",
       "      <td>city_ha_long</td>\n",
       "      <td>City</td>\n",
       "      <td>Ha Long Bay</td>\n",
       "      <td>Northern Vietnam</td>\n",
       "      <td>Ha Long Bay is located in Northern Vietnam. It...</td>\n",
       "      <td>February to May</td>\n",
       "      <td>[beach, cruise, nature]</td>\n",
       "      <td>Ha Long Bay offers a mix of beach, cruise, nat...</td>\n",
       "      <td>[{'relation': 'Connected_To', 'target': 'city_...</td>\n",
       "      <td>NaN</td>\n",
       "    </tr>\n",
       "    <tr>\n",
       "      <th>2</th>\n",
       "      <td>city_sapa</td>\n",
       "      <td>City</td>\n",
       "      <td>Sapa</td>\n",
       "      <td>Northern Vietnam</td>\n",
       "      <td>Sapa is located in Northern Vietnam. It’s know...</td>\n",
       "      <td>October to April</td>\n",
       "      <td>[mountain, trekking, ethnic]</td>\n",
       "      <td>Sapa offers a mix of mountain, trekking, ethni...</td>\n",
       "      <td>[{'relation': 'Connected_To', 'target': 'city_...</td>\n",
       "      <td>NaN</td>\n",
       "    </tr>\n",
       "    <tr>\n",
       "      <th>3</th>\n",
       "      <td>city_hue</td>\n",
       "      <td>City</td>\n",
       "      <td>Hue</td>\n",
       "      <td>Central Vietnam</td>\n",
       "      <td>Hue is located in Central Vietnam. It’s known ...</td>\n",
       "      <td>October to April</td>\n",
       "      <td>[imperial, history, architecture]</td>\n",
       "      <td>Hue offers a mix of imperial, history, archite...</td>\n",
       "      <td>[{'relation': 'Connected_To', 'target': 'city_...</td>\n",
       "      <td>NaN</td>\n",
       "    </tr>\n",
       "    <tr>\n",
       "      <th>4</th>\n",
       "      <td>city_hoi_an</td>\n",
       "      <td>City</td>\n",
       "      <td>Hoi An</td>\n",
       "      <td>Central Vietnam</td>\n",
       "      <td>Hoi An is located in Central Vietnam. It’s kno...</td>\n",
       "      <td>October to April</td>\n",
       "      <td>[lanterns, romantic, heritage]</td>\n",
       "      <td>Hoi An offers a mix of lanterns, romantic, her...</td>\n",
       "      <td>[{'relation': 'Connected_To', 'target': 'city_...</td>\n",
       "      <td>NaN</td>\n",
       "    </tr>\n",
       "  </tbody>\n",
       "</table>\n",
       "</div>"
      ],
      "text/plain": [
       "             id  type         name            region  \\\n",
       "0    city_hanoi  City        Hanoi  Northern Vietnam   \n",
       "1  city_ha_long  City  Ha Long Bay  Northern Vietnam   \n",
       "2     city_sapa  City         Sapa  Northern Vietnam   \n",
       "3      city_hue  City          Hue   Central Vietnam   \n",
       "4   city_hoi_an  City       Hoi An   Central Vietnam   \n",
       "\n",
       "                                         description best_time_to_visit  \\\n",
       "0  Hanoi is located in Northern Vietnam. It’s kno...    February to May   \n",
       "1  Ha Long Bay is located in Northern Vietnam. It...    February to May   \n",
       "2  Sapa is located in Northern Vietnam. It’s know...   October to April   \n",
       "3  Hue is located in Central Vietnam. It’s known ...   October to April   \n",
       "4  Hoi An is located in Central Vietnam. It’s kno...   October to April   \n",
       "\n",
       "                                tags  \\\n",
       "0          [culture, food, heritage]   \n",
       "1            [beach, cruise, nature]   \n",
       "2       [mountain, trekking, ethnic]   \n",
       "3  [imperial, history, architecture]   \n",
       "4     [lanterns, romantic, heritage]   \n",
       "\n",
       "                                       semantic_text  \\\n",
       "0  Hanoi offers a mix of culture, food, heritage ...   \n",
       "1  Ha Long Bay offers a mix of beach, cruise, nat...   \n",
       "2  Sapa offers a mix of mountain, trekking, ethni...   \n",
       "3  Hue offers a mix of imperial, history, archite...   \n",
       "4  Hoi An offers a mix of lanterns, romantic, her...   \n",
       "\n",
       "                                         connections city  \n",
       "0  [{'relation': 'Connected_To', 'target': 'city_...  NaN  \n",
       "1  [{'relation': 'Connected_To', 'target': 'city_...  NaN  \n",
       "2  [{'relation': 'Connected_To', 'target': 'city_...  NaN  \n",
       "3  [{'relation': 'Connected_To', 'target': 'city_...  NaN  \n",
       "4  [{'relation': 'Connected_To', 'target': 'city_...  NaN  "
      ]
     },
     "execution_count": 3,
     "metadata": {},
     "output_type": "execute_result"
    }
   ],
   "source": [
    "df.head()"
   ]
  },
  {
   "cell_type": "code",
   "execution_count": 6,
   "id": "7fd902a3",
   "metadata": {},
   "outputs": [
    {
     "data": {
      "text/plain": [
       "(360, 10)"
      ]
     },
     "execution_count": 6,
     "metadata": {},
     "output_type": "execute_result"
    }
   ],
   "source": [
    "df.shape"
   ]
  },
  {
   "cell_type": "code",
   "execution_count": 4,
   "id": "b224ddbb",
   "metadata": {},
   "outputs": [
    {
     "data": {
      "text/plain": [
       "array(['City', 'Attraction', 'Hotel', 'Activity'], dtype=object)"
      ]
     },
     "execution_count": 4,
     "metadata": {},
     "output_type": "execute_result"
    }
   ],
   "source": [
    "df['type'].unique()"
   ]
  },
  {
   "cell_type": "code",
   "execution_count": 5,
   "id": "0b3a160f",
   "metadata": {},
   "outputs": [
    {
     "data": {
      "text/plain": [
       "array(['Northern Vietnam', 'Central Vietnam', 'Southern Vietnam', nan],\n",
       "      dtype=object)"
      ]
     },
     "execution_count": 5,
     "metadata": {},
     "output_type": "execute_result"
    }
   ],
   "source": [
    "df['region'].unique()"
   ]
  },
  {
   "cell_type": "code",
   "execution_count": 10,
   "id": "ebfb0fc6",
   "metadata": {},
   "outputs": [
    {
     "data": {
      "text/plain": [
       "359    [{'relation': 'Available_In', 'target': 'city_...\n",
       "Name: connections, dtype: object"
      ]
     },
     "execution_count": 10,
     "metadata": {},
     "output_type": "execute_result"
    }
   ],
   "source": [
    "df['connections'].tail(1)"
   ]
  },
  {
   "cell_type": "code",
   "execution_count": 3,
   "id": "f62b9104",
   "metadata": {},
   "outputs": [
    {
     "name": "stdout",
     "output_type": "stream",
     "text": [
      "neo4j_viz.html\n",
      "Saved visualization to neo4j_viz.html\n"
     ]
    }
   ],
   "source": [
    "# visualize_graph.py\n",
    "from neo4j import GraphDatabase\n",
    "from pyvis.network import Network\n",
    "import networkx as nx\n",
    "import config\n",
    "\n",
    "NEO_BATCH = 500  # number of relationships to fetch / visualize\n",
    "\n",
    "driver = GraphDatabase.driver(config.NEO4J_URI, auth=(config.NEO4J_USERNAME, config.NEO4J_PASSWORD))\n",
    "\n",
    "def fetch_subgraph(tx, limit=500):\n",
    "    # fetch nodes and relationships up to a limit\n",
    "    q = (\n",
    "        \"MATCH (a:Entity)-[r]->(b:Entity) \"\n",
    "        \"RETURN a.id AS a_id, labels(a) AS a_labels, a.name AS a_name, \"\n",
    "        \"b.id AS b_id, labels(b) AS b_labels, b.name AS b_name, type(r) AS rel \"\n",
    "        \"LIMIT $limit\"\n",
    "    )\n",
    "    return list(tx.run(q, limit=limit))\n",
    "\n",
    "def build_pyvis(rows, output_html=\"neo4j_viz.html\"):\n",
    "    net = Network(height=\"900px\", width=\"100%\", notebook=False, directed=True)\n",
    "    for rec in rows:\n",
    "        a_id = rec[\"a_id\"]; a_name = rec[\"a_name\"] or a_id\n",
    "        b_id = rec[\"b_id\"]; b_name = rec[\"b_name\"] or b_id\n",
    "        a_labels = rec[\"a_labels\"]; b_labels = rec[\"b_labels\"]\n",
    "        rel = rec[\"rel\"]\n",
    "\n",
    "        net.add_node(a_id, label=f\"{a_name}\\n({','.join(a_labels)})\", title=f\"{a_name}\")\n",
    "        net.add_node(b_id, label=f\"{b_name}\\n({','.join(b_labels)})\", title=f\"{b_name}\")\n",
    "        net.add_edge(a_id, b_id, title=rel)\n",
    "\n",
    "    net.show(output_html, notebook=False)\n",
    "    print(f\"Saved visualization to {output_html}\")\n",
    "\n",
    "def main():\n",
    "    with driver.session() as session:\n",
    "        rows = session.execute_read(fetch_subgraph, limit=NEO_BATCH)\n",
    "    build_pyvis(rows)\n",
    "\n",
    "if __name__ == \"__main__\":\n",
    "    main()\n"
   ]
  },
  {
   "cell_type": "code",
   "execution_count": 10,
   "id": "2399c4d5",
   "metadata": {},
   "outputs": [
    {
     "name": "stdout",
     "output_type": "stream",
     "text": [
      "Collecting sentence_transformers\n",
      "  Using cached sentence_transformers-5.1.1-py3-none-any.whl.metadata (16 kB)\n",
      "Collecting transformers<5.0.0,>=4.41.0 (from sentence_transformers)\n",
      "  Using cached transformers-4.57.1-py3-none-any.whl.metadata (43 kB)\n",
      "Requirement already satisfied: tqdm in /opt/anaconda3/envs/blue_enigma_env/lib/python3.11/site-packages (from sentence_transformers) (4.67.1)\n",
      "Collecting torch>=1.11.0 (from sentence_transformers)\n",
      "  Using cached torch-2.9.0-cp311-none-macosx_11_0_arm64.whl.metadata (30 kB)\n",
      "Collecting scikit-learn (from sentence_transformers)\n",
      "  Using cached scikit_learn-1.7.2-cp311-cp311-macosx_12_0_arm64.whl.metadata (11 kB)\n",
      "Collecting scipy (from sentence_transformers)\n",
      "  Using cached scipy-1.16.2-cp311-cp311-macosx_14_0_arm64.whl.metadata (62 kB)\n",
      "Collecting huggingface-hub>=0.20.0 (from sentence_transformers)\n",
      "  Using cached huggingface_hub-0.35.3-py3-none-any.whl.metadata (14 kB)\n",
      "Requirement already satisfied: Pillow in /opt/anaconda3/envs/blue_enigma_env/lib/python3.11/site-packages (from sentence_transformers) (12.0.0)\n",
      "Requirement already satisfied: typing_extensions>=4.5.0 in /opt/anaconda3/envs/blue_enigma_env/lib/python3.11/site-packages (from sentence_transformers) (4.15.0)\n",
      "Requirement already satisfied: filelock in /opt/anaconda3/envs/blue_enigma_env/lib/python3.11/site-packages (from transformers<5.0.0,>=4.41.0->sentence_transformers) (3.20.0)\n",
      "Requirement already satisfied: numpy>=1.17 in /opt/anaconda3/envs/blue_enigma_env/lib/python3.11/site-packages (from transformers<5.0.0,>=4.41.0->sentence_transformers) (2.3.4)\n",
      "Requirement already satisfied: packaging>=20.0 in /opt/anaconda3/envs/blue_enigma_env/lib/python3.11/site-packages (from transformers<5.0.0,>=4.41.0->sentence_transformers) (24.2)\n",
      "Requirement already satisfied: pyyaml>=5.1 in /opt/anaconda3/envs/blue_enigma_env/lib/python3.11/site-packages (from transformers<5.0.0,>=4.41.0->sentence_transformers) (6.0.3)\n",
      "Requirement already satisfied: regex!=2019.12.17 in /opt/anaconda3/envs/blue_enigma_env/lib/python3.11/site-packages (from transformers<5.0.0,>=4.41.0->sentence_transformers) (2025.9.18)\n",
      "Requirement already satisfied: requests in /opt/anaconda3/envs/blue_enigma_env/lib/python3.11/site-packages (from transformers<5.0.0,>=4.41.0->sentence_transformers) (2.32.5)\n",
      "Collecting tokenizers<=0.23.0,>=0.22.0 (from transformers<5.0.0,>=4.41.0->sentence_transformers)\n",
      "  Using cached tokenizers-0.22.1-cp39-abi3-macosx_11_0_arm64.whl.metadata (6.8 kB)\n",
      "Requirement already satisfied: safetensors>=0.4.3 in /opt/anaconda3/envs/blue_enigma_env/lib/python3.11/site-packages (from transformers<5.0.0,>=4.41.0->sentence_transformers) (0.6.2)\n",
      "Requirement already satisfied: fsspec>=2023.5.0 in /opt/anaconda3/envs/blue_enigma_env/lib/python3.11/site-packages (from huggingface-hub>=0.20.0->sentence_transformers) (2025.9.0)\n",
      "Requirement already satisfied: hf-xet<2.0.0,>=1.1.3 in /opt/anaconda3/envs/blue_enigma_env/lib/python3.11/site-packages (from huggingface-hub>=0.20.0->sentence_transformers) (1.1.10)\n",
      "Requirement already satisfied: sympy>=1.13.3 in /opt/anaconda3/envs/blue_enigma_env/lib/python3.11/site-packages (from torch>=1.11.0->sentence_transformers) (1.14.0)\n",
      "Requirement already satisfied: networkx>=2.5.1 in /opt/anaconda3/envs/blue_enigma_env/lib/python3.11/site-packages (from torch>=1.11.0->sentence_transformers) (3.5)\n",
      "Requirement already satisfied: jinja2 in /opt/anaconda3/envs/blue_enigma_env/lib/python3.11/site-packages (from torch>=1.11.0->sentence_transformers) (3.1.6)\n",
      "Requirement already satisfied: mpmath<1.4,>=1.1.0 in /opt/anaconda3/envs/blue_enigma_env/lib/python3.11/site-packages (from sympy>=1.13.3->torch>=1.11.0->sentence_transformers) (1.3.0)\n",
      "Requirement already satisfied: MarkupSafe>=2.0 in /opt/anaconda3/envs/blue_enigma_env/lib/python3.11/site-packages (from jinja2->torch>=1.11.0->sentence_transformers) (3.0.3)\n",
      "Requirement already satisfied: charset_normalizer<4,>=2 in /opt/anaconda3/envs/blue_enigma_env/lib/python3.11/site-packages (from requests->transformers<5.0.0,>=4.41.0->sentence_transformers) (3.4.4)\n",
      "Requirement already satisfied: idna<4,>=2.5 in /opt/anaconda3/envs/blue_enigma_env/lib/python3.11/site-packages (from requests->transformers<5.0.0,>=4.41.0->sentence_transformers) (3.11)\n",
      "Requirement already satisfied: urllib3<3,>=1.21.1 in /opt/anaconda3/envs/blue_enigma_env/lib/python3.11/site-packages (from requests->transformers<5.0.0,>=4.41.0->sentence_transformers) (2.5.0)\n",
      "Requirement already satisfied: certifi>=2017.4.17 in /opt/anaconda3/envs/blue_enigma_env/lib/python3.11/site-packages (from requests->transformers<5.0.0,>=4.41.0->sentence_transformers) (2025.10.5)\n",
      "Requirement already satisfied: joblib>=1.2.0 in /opt/anaconda3/envs/blue_enigma_env/lib/python3.11/site-packages (from scikit-learn->sentence_transformers) (1.5.2)\n",
      "Requirement already satisfied: threadpoolctl>=3.1.0 in /opt/anaconda3/envs/blue_enigma_env/lib/python3.11/site-packages (from scikit-learn->sentence_transformers) (3.6.0)\n",
      "Using cached sentence_transformers-5.1.1-py3-none-any.whl (486 kB)\n",
      "Using cached transformers-4.57.1-py3-none-any.whl (12.0 MB)\n",
      "Using cached huggingface_hub-0.35.3-py3-none-any.whl (564 kB)\n",
      "Using cached tokenizers-0.22.1-cp39-abi3-macosx_11_0_arm64.whl (2.9 MB)\n",
      "Using cached torch-2.9.0-cp311-none-macosx_11_0_arm64.whl (74.5 MB)\n",
      "Using cached scikit_learn-1.7.2-cp311-cp311-macosx_12_0_arm64.whl (8.6 MB)\n",
      "Using cached scipy-1.16.2-cp311-cp311-macosx_14_0_arm64.whl (20.9 MB)\n",
      "Installing collected packages: scipy, torch, scikit-learn, huggingface-hub, tokenizers, transformers, sentence_transformers\n",
      "\u001b[2K   \u001b[90m━━━━━━━━━━━━━━━━━━━━━━━━━━━━━━━━━━━━━━━━\u001b[0m \u001b[32m7/7\u001b[0m [sentence_transformers]ence_transformers]\n",
      "\u001b[1A\u001b[2KSuccessfully installed huggingface-hub-0.35.3 scikit-learn-1.7.2 scipy-1.16.2 sentence_transformers-5.1.1 tokenizers-0.22.1 torch-2.9.0 transformers-4.57.1\n",
      "Note: you may need to restart the kernel to use updated packages.\n"
     ]
    }
   ],
   "source": [
    "pip install sentence_transformers"
   ]
  },
  {
   "cell_type": "code",
   "execution_count": null,
   "id": "0a6f66e9",
   "metadata": {},
   "outputs": [],
   "source": []
  }
 ],
 "metadata": {
  "kernelspec": {
   "display_name": "blue_enigma_env",
   "language": "python",
   "name": "python3"
  },
  "language_info": {
   "codemirror_mode": {
    "name": "ipython",
    "version": 3
   },
   "file_extension": ".py",
   "mimetype": "text/x-python",
   "name": "python",
   "nbconvert_exporter": "python",
   "pygments_lexer": "ipython3",
   "version": "3.11.13"
  }
 },
 "nbformat": 4,
 "nbformat_minor": 5
}
